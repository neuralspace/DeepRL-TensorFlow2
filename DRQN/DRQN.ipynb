{
 "cells": [
  {
   "cell_type": "markdown",
   "id": "276d3459-432d-4c1b-81d4-1a8a43babbe7",
   "metadata": {},
   "source": [
    "# Deep Recurrent Q-Network"
   ]
  },
  {
   "cell_type": "markdown",
   "id": "f6badba7-144a-44f9-b2a5-da2fcc4c7df8",
   "metadata": {},
   "source": [
    "## Setup"
   ]
  },
  {
   "cell_type": "code",
   "execution_count": 1,
   "id": "983fe238-ac6e-4070-bad8-86fc03b70aa6",
   "metadata": {},
   "outputs": [
    {
     "name": "stdout",
     "output_type": "stream",
     "text": [
      "1 Physical GPUs, 1 Logical GPUs\n"
     ]
    }
   ],
   "source": [
    "# Python ≥3.5 is required\n",
    "import sys\n",
    "assert sys.version_info >= (3, 5)\n",
    "\n",
    "# Scikit-Learn ≥0.20 is required\n",
    "import sklearn\n",
    "assert sklearn.__version__ >= \"0.20\"\n",
    "\n",
    "try:\n",
    "    # %tensorflow_version only exists in Colab.\n",
    "    %tensorflow_version 2.x\n",
    "    !apt update && apt install -y libpq-dev libsdl2-dev swig xorg-dev xvfb\n",
    "    !pip install -q -U tf-agents pyvirtualdisplay gym[atari,box2d]\n",
    "    IS_COLAB = True\n",
    "except Exception:\n",
    "    IS_COLAB = False\n",
    "\n",
    "# TensorFlow ≥2.0 is required\n",
    "import tensorflow as tf\n",
    "from tensorflow import keras\n",
    "assert tf.__version__ >= \"2.0\"\n",
    "\n",
    "gpus = tf.config.list_physical_devices('GPU')\n",
    "if gpus:\n",
    "    try:\n",
    "        # Currently, memory growth needs to be the same across GPUs\n",
    "        for gpu in gpus:\n",
    "            tf.config.experimental.set_memory_growth(gpu, True)\n",
    "        logical_gpus = tf.config.experimental.list_logical_devices('GPU')\n",
    "        print(len(gpus), \"Physical GPUs,\", len(logical_gpus), \"Logical GPUs\")\n",
    "    except RuntimeError as e:\n",
    "        # Memory growth must be set before GPUs have been initialized\n",
    "        print(e)\n",
    "else:\n",
    "    print(\"No GPU was detected. CNNs can be very slow without a GPU.\")\n",
    "    if IS_COLAB:\n",
    "        print(\"Go to Runtime > Change runtime and select a GPU hardware accelerator.\")\n",
    "\n",
    "# Common imports\n",
    "import numpy as np\n",
    "import random\n",
    "import os\n",
    "import functools\n",
    "import time\n",
    "import gin\n",
    "import PIL\n",
    "import imageio\n",
    "\n",
    "from absl import app\n",
    "from absl import flags\n",
    "from absl import logging\n",
    "\n",
    "import gym\n",
    "from gym.envs.registration import register\n",
    "from collections import deque\n",
    "from tensorflow.keras.models import Sequential\n",
    "from tensorflow.keras.layers import Input, Dense, LSTM, Activation, Flatten, Conv2D, MaxPooling2D\n",
    "from tensorflow.keras.optimizers import Adam\n",
    "\n",
    "from IPython import display\n",
    "\n",
    "# To plot pretty figures\n",
    "%matplotlib inline\n",
    "import matplotlib as mpl\n",
    "import matplotlib.pyplot as plt\n",
    "mpl.rc('axes', labelsize=14)\n",
    "mpl.rc('xtick', labelsize=12)\n",
    "mpl.rc('ytick', labelsize=12)\n",
    "\n",
    "# To get smooth animations\n",
    "import matplotlib.animation as animation\n",
    "mpl.rc('animation', html='jshtml')"
   ]
  },
  {
   "cell_type": "markdown",
   "id": "bdd024ef-21bd-4be1-a127-2c3a4aefcbae",
   "metadata": {},
   "source": [
    "## Environment Setup"
   ]
  },
  {
   "cell_type": "code",
   "execution_count": 2,
   "id": "d9c75cd5-8c81-41fd-a652-14d7295e75c4",
   "metadata": {},
   "outputs": [],
   "source": [
    "env_name = 'LunarLander-v2'\n",
    "#env_name = 'CartPole-v1'\n",
    "random_seed = 42\n",
    "\n",
    "ROOT_DIR = \".\"\n",
    "IMAGES_PATH = os.path.join(ROOT_DIR, \"images\")\n",
    "os.makedirs(IMAGES_PATH, exist_ok=True)\n",
    "\n",
    "# Params for train\n",
    "max_episodes = 500\n",
    "max_replay = 10\n",
    "batch_size = 32\n",
    "gamma = 0.99\n",
    "epsilon_min = 0.01\n",
    "learning_rate = 0.005\n",
    "target_update_rate = 2\n",
    "time_steps = 4\n",
    "#loss_fn = keras.losses.sparse_categorical_crossentropy\n",
    "#loss_fn = keras.losses.mean_squared_error\n",
    "loss_fn = keras.losses.MeanSquaredError()\n",
    "#activation_fn = \"softmax\"\n",
    "activation_fn = \"linear\"\n",
    "\n",
    "keras.backend.clear_session()\n",
    "tf.random.set_seed(random_seed)\n",
    "np.random.seed(random_seed)"
   ]
  },
  {
   "cell_type": "markdown",
   "id": "f87e07a8-d652-4208-a862-260e4a05f82f",
   "metadata": {},
   "source": [
    "## Replay Buffer"
   ]
  },
  {
   "cell_type": "code",
   "execution_count": 3,
   "id": "8fb21292-ecc3-4b6c-a843-991cedc09e9e",
   "metadata": {},
   "outputs": [],
   "source": [
    "class ReplayBuffer:\n",
    "    def __init__(self, time_steps, batch_size=32, capacity=10000):\n",
    "        self.time_steps = time_steps\n",
    "        self.batch_size = batch_size\n",
    "        self.buffer = deque(maxlen=capacity)\n",
    "    \n",
    "    def put(self, state, action, reward, next_state, done):\n",
    "        self.buffer.append([state, action, reward, next_state, done])\n",
    "    \n",
    "    def sample(self):\n",
    "        minibatch = random.sample(self.buffer, self.batch_size)\n",
    "        states, actions, rewards, next_states, done = map(np.asarray, zip(*minibatch))\n",
    "        states = np.array(states).reshape(self.batch_size, self.time_steps, -1)\n",
    "        next_states = np.array(next_states).reshape(self.batch_size, self.time_steps, -1)\n",
    "        return states, actions, rewards, next_states, done\n",
    "    \n",
    "    def size(self):\n",
    "        return len(self.buffer)"
   ]
  },
  {
   "cell_type": "markdown",
   "id": "def5b9a0-c34f-46b2-9925-7632d1f72f0e",
   "metadata": {},
   "source": [
    "## Deep Recurrent Q-Network"
   ]
  },
  {
   "cell_type": "code",
   "execution_count": 4,
   "id": "e0b7c7c9-a191-4c56-8ab6-528104565428",
   "metadata": {},
   "outputs": [],
   "source": [
    "class DRQN:\n",
    "    def __init__(self, network_name, state_dim, action_dim, time_steps=4, loss_fn=keras.losses.MeanSquaredError(), gamma=0.99, learning_rate=0.005, max_episodes=500, eps_min=0.01):\n",
    "        self.network_name = network_name\n",
    "        self.state_dim = state_dim\n",
    "        self.action_dim = action_dim\n",
    "        self.gamma = gamma\n",
    "        self.lr = learning_rate\n",
    "        self.eps_den = (max_episodes * 0.85)\n",
    "        self.eps_min = eps_min\n",
    "        self.time_steps = time_steps\n",
    "        self.loss_fn = loss_fn\n",
    "        self.optimizer = Adam(lr=self.lr)\n",
    "        \n",
    "        self.checkpoint_folder = os.path.join(ROOT_DIR, \"training/\" + self.network_name)\n",
    "        os.makedirs(self.checkpoint_folder, exist_ok=True)\n",
    "        self.checkpoint_path = os.path.join(self.checkpoint_folder, 'cp-{epoch:04d}.ckpt')\n",
    "        self.checkpoint_dir = os.path.dirname(self.checkpoint_path)\n",
    "\n",
    "        self.model = self.create_model()\n",
    "\n",
    "    def create_model(self):\n",
    "        model = tf.keras.Sequential([\n",
    "            Input((self.time_steps, self.state_dim)),\n",
    "            LSTM(32, activation='tanh'),\n",
    "            Dense(16, activation='relu'),\n",
    "            Dense(self.action_dim)\n",
    "        ])\n",
    "        return model\n",
    "    \n",
    "    def epsilon(self, episode):\n",
    "        eps = max(1 - episode / self.eps_den, self.eps_min)\n",
    "        return eps\n",
    "    \n",
    "    def epsilon_greedy(self, state, episode):\n",
    "        if random.uniform(0,1) < self.epsilon(episode):\n",
    "            action = np.random.randint(self.action_dim)\n",
    "        else:\n",
    "            Q_value = self.predict(state)[0]\n",
    "            action = np.argmax(Q_value)\n",
    "        return action\n",
    "    \n",
    "    def predict(self, state):\n",
    "        return self.model.predict(state)\n",
    "    \n",
    "    def get_action(self, state, episode):\n",
    "        state = np.reshape(state, [1, self.time_steps, self.state_dim])\n",
    "        return self.epsilon_greedy(state, episode)\n",
    "    \n",
    "    def train(self, states, targets):\n",
    "        targets = tf.stop_gradient(targets)\n",
    "        with tf.GradientTape() as tape:\n",
    "            logits = self.model(states, training=True)\n",
    "            assert targets.shape == logits.shape\n",
    "            loss = self.loss_fn(targets, logits)\n",
    "        grads = tape.gradient(loss, self.model.trainable_variables)\n",
    "        self.optimizer.apply_gradients(zip(grads, self.model.trainable_variables))\n",
    "    \n",
    "    def load(self, weights=''):\n",
    "        if weights:\n",
    "             self.model.load_weights(weights)\n",
    "        else:\n",
    "            latest = tf.train.latest_checkpoint(self.checkpoint_dir)\n",
    "            if latest is not None:\n",
    "                self.model.load_weights(latest)\n",
    "\n",
    "    def save(self, e):\n",
    "        self.model.save_weights(self.checkpoint_path.format(epoch=e))\n",
    "    \n",
    "    def clean(self):\n",
    "        for f in os.listdir(self.checkpoint_folder):\n",
    "            os.remove(os.path.join(self.checkpoint_folder, f))"
   ]
  },
  {
   "cell_type": "markdown",
   "id": "a925d92f-1521-41e5-81ec-3eb83902b742",
   "metadata": {},
   "source": [
    "## Agent Class"
   ]
  },
  {
   "cell_type": "code",
   "execution_count": 17,
   "id": "dc98f730-61e3-43f8-bb1a-e50a1265624c",
   "metadata": {},
   "outputs": [],
   "source": [
    "class Agent:\n",
    "    def __init__(self, env_name, random_seed=42, time_steps=4, loss_fn=keras.losses.MeanSquaredError(), gamma=0.95, learning_rate=0.005, max_episodes=500, eps_min=0.01, batch_size=32, max_replay=10, target_update_rate=50):\n",
    "        self.env = gym.make(env_name)\n",
    "        self.env.seed(random_seed)\n",
    "        self.state_dim = self.env.observation_space.shape[0]\n",
    "        self.action_dim = self.env.action_space.n\n",
    "        self.gamma = gamma\n",
    "        self.batch_size = batch_size\n",
    "        self.target_update_rate = target_update_rate\n",
    "        self.time_steps = time_steps\n",
    "        self.states = np.zeros([self.time_steps, self.state_dim])\n",
    "        \n",
    "        self.frames = []\n",
    "        self.rewards = []\n",
    "        \n",
    "        self.image_name = env_name + \".gif\"\n",
    "        self.image_path = os.path.join(IMAGES_PATH, self.image_name)\n",
    "        \n",
    "        self.main_model = DRQN(\"main\", self.state_dim, self.action_dim, self.time_steps, loss_fn, self.gamma, learning_rate, max_episodes, eps_min)\n",
    "        self.target_model = DRQN(\"target\", self.state_dim, self.action_dim, self.time_steps, loss_fn, self.gamma, learning_rate, max_episodes, eps_min)\n",
    "        self.target_update()\n",
    "\n",
    "        self.buffer = ReplayBuffer(self.time_steps, self.batch_size)\n",
    "        \n",
    "    def cp_init(self):\n",
    "        self.main_model.clean()\n",
    "        self.target_model.clean()\n",
    "        \n",
    "    def convert_time(self, t):\n",
    "        hours, rem = divmod(t, 3600)\n",
    "        minutes, seconds = divmod(rem, 60)\n",
    "        return hours, minutes, seconds\n",
    "    \n",
    "    def make_gif(self):\n",
    "        frame_images = [PIL.Image.fromarray(frame) for frame in self.frames]\n",
    "        frame_images[0].save(self.image_path, format='GIF', append_images=frame_images[1:], save_all=True, duration=120, loop=0)\n",
    "    \n",
    "    def show_gif(self):\n",
    "        html_img = '<img src=' + self.image_path + ' />'\n",
    "        display.HTML(html_img)\n",
    "\n",
    "    def plot_rewards(self):\n",
    "        plt.figure(figsize=(8, 4))\n",
    "        plt.plot(self.rewards)\n",
    "        plt.xlabel(\"Episode\", fontsize=14)\n",
    "        plt.ylabel(\"Reward\", fontsize=14)\n",
    "        plt.grid()\n",
    "        plt.show()\n",
    "    \n",
    "    def target_update(self):\n",
    "        weights = self.main_model.model.get_weights()\n",
    "        self.target_model.model.set_weights(weights)\n",
    "    \n",
    "    def replay(self, max_replay=10):\n",
    "        for _ in range(max_replay):\n",
    "            states, actions, rewards, next_states, done = self.buffer.sample()\n",
    "            next_q_values = self.target_model.predict(next_states).max(axis=1)\n",
    "            q_values = self.main_model.predict(states)\n",
    "            q_values[range(self.batch_size), actions] = rewards + (1-done) * next_q_values * self.gamma\n",
    "            self.main_model.train(states, q_values)\n",
    "    \n",
    "    def update_states(self, next_state):\n",
    "        self.states = np.roll(self.states, -1, axis=0)\n",
    "        self.states[-1] = next_state\n",
    "    \n",
    "    def train(self, max_episodes=1000, max_replay=10):\n",
    "        train_time, best_reward = 0, -1000\n",
    "        self.rewards = []\n",
    "        avg_rewards = []\n",
    "        self.main_model.load()\n",
    "        self.main_model.clean()\n",
    "        for ep in range(max_episodes):\n",
    "            done, total_reward, time_step = False, 0, 0\n",
    "            self.states = np.zeros([self.time_steps, self.state_dim])\n",
    "            self.update_states(self.env.reset())\n",
    "            while not done:\n",
    "                action = self.main_model.get_action(self.states, ep)\n",
    "                next_state, reward, done, _ = self.env.step(action)\n",
    "                prev_states = self.states\n",
    "                self.update_states(next_state)\n",
    "                self.buffer.put(prev_states, action, reward, self.states, done)\n",
    "                total_reward += reward\n",
    "                time_step += 1\n",
    "            self.rewards.append(total_reward)\n",
    "            avg_reward = np.mean(self.rewards[-100:])\n",
    "            avg_rewards.append(avg_reward)\n",
    "            if total_reward >= best_reward:\n",
    "                best_weights = self.main_model.model.get_weights()\n",
    "                best_reward = total_reward\n",
    "                self.main_model.save(ep)\n",
    "            if self.buffer.size() >= self.batch_size:\n",
    "                start_time = time.time()\n",
    "                self.replay(max_replay)\n",
    "                train_time += time.time() - start_time\n",
    "                if ep % self.target_update_rate:\n",
    "                    self.target_update()\n",
    "            hours, minutes, seconds = self.convert_time(train_time)\n",
    "            print(\"\\rEpisode: {}, Timestep: {}, Current Reward: {:.5f}, Best Reward: {:.5f}, Avg. Reward: {:.5f}, Train Time: {:0>2}:{:0>2}:{:05.2f}\".format(ep, time_step, total_reward, best_reward, avg_reward, int(hours), int(minutes), seconds), end=\"\")\n",
    "        self.main_model.model.set_weights(best_weights)\n",
    "        self.main_model.save(ep)\n",
    "\n",
    "    def play(self):\n",
    "        self.states = np.zeros([self.time_steps, self.state_dim])\n",
    "        self.update_states(self.env.reset())\n",
    "        self.frames = []\n",
    "        total_reward, step_indx = 0, 0\n",
    "        while True:\n",
    "            self.frames.append(self.env.render(mode=\"rgb_array\"))\n",
    "            action_state = np.reshape(self.states, [1, self.time_steps, self.state_dim])\n",
    "            Q_value = self.main_model.predict(action_state)[0]\n",
    "            action = np.argmax(Q_value)\n",
    "            state, reward, done, _ = self.env.step(action)\n",
    "            self.update_states(state)\n",
    "            total_reward += reward\n",
    "            step_indx += 1\n",
    "            print(\"\\rTimestep: {}, Reward: {:.5f}\".format(step_indx, total_reward), end=\"\")\n",
    "            if done:\n",
    "                break\n",
    "        self.env.close()"
   ]
  },
  {
   "cell_type": "markdown",
   "id": "f900225f-412f-4fcd-8e34-b619e7dbb86f",
   "metadata": {},
   "source": [
    "## Train"
   ]
  },
  {
   "cell_type": "code",
   "execution_count": 18,
   "id": "ffe11840-2ea9-4318-b5b5-51a5c213460e",
   "metadata": {},
   "outputs": [],
   "source": [
    "agent = Agent(env_name, random_seed, time_steps, loss_fn, gamma, learning_rate, max_episodes, epsilon_min, batch_size, max_replay, target_update_rate)"
   ]
  },
  {
   "cell_type": "code",
   "execution_count": null,
   "id": "4889b248-a747-4ffc-ba3e-da17e927d354",
   "metadata": {},
   "outputs": [],
   "source": [
    "agent.cp_init()\n",
    "agent.train(max_episodes, max_replay)"
   ]
  },
  {
   "cell_type": "code",
   "execution_count": 19,
   "id": "a2deb8f5-80c6-4dff-8089-9a561a6d4ec5",
   "metadata": {},
   "outputs": [
    {
     "name": "stdout",
     "output_type": "stream",
     "text": [
      "Episode: 499, Timestep: 1000, Current Reward: -126.64299, Best Reward: 200.12588, Avg. Reward: -101.47563, Train Time: 00:04:57.13"
     ]
    }
   ],
   "source": [
    "agent.train(max_episodes, max_replay)"
   ]
  },
  {
   "cell_type": "markdown",
   "id": "6dd37e29-b2c3-4de3-873d-5a95ffac4841",
   "metadata": {},
   "source": [
    "## Display Results"
   ]
  },
  {
   "cell_type": "code",
   "execution_count": 20,
   "id": "4c70a1a4-6285-4041-859b-6ec4653d45c4",
   "metadata": {},
   "outputs": [
    {
     "data": {
      "image/png": "[encoded data removed]",
      "text/plain": [
       "<Figure size 576x288 with 1 Axes>"
      ]
     },
     "metadata": {
      "needs_background": "light"
     },
     "output_type": "display_data"
    }
   ],
   "source": [
    "agent.plot_rewards()"
   ]
  },
  {
   "cell_type": "markdown",
   "id": "a27e9040-2139-48a9-b226-d3bf4c46feab",
   "metadata": {},
   "source": [
    "## Play"
   ]
  },
  {
   "cell_type": "code",
   "execution_count": 21,
   "id": "a230f595-1f50-4a21-a612-9d2360aeeb89",
   "metadata": {},
   "outputs": [
    {
     "name": "stdout",
     "output_type": "stream",
     "text": [
      "Timestep: 1000, Reward: -12.12333"
     ]
    }
   ],
   "source": [
    "agent.play()"
   ]
  },
  {
   "cell_type": "code",
   "execution_count": 22,
   "id": "ac7f95a5-4ab4-443c-b119-e4c223cda3f7",
   "metadata": {},
   "outputs": [],
   "source": [
    "agent.make_gif()"
   ]
  },
  {
   "cell_type": "code",
   "execution_count": 23,
   "id": "7b4b1d34-5ff5-45db-b4e4-d70b994bb9de",
   "metadata": {},
   "outputs": [],
   "source": [
    "agent.show_gif()"
   ]
  },
  {
   "cell_type": "code",
   "execution_count": 24,
   "id": "b4780e7e-5355-4394-ba89-a00976c823e8",
   "metadata": {},
   "outputs": [
    {
     "data": {
      "text/html": [
       "<img src='images/LunarLander-v2.gif' />"
      ],
      "text/plain": [
       "<IPython.core.display.HTML object>"
      ]
     },
     "execution_count": 24,
     "metadata": {},
     "output_type": "execute_result"
    }
   ],
   "source": [
    "display.HTML(\"<img src='images/LunarLander-v2.gif' />\")"
   ]
  },
  {
   "cell_type": "code",
   "execution_count": null,
   "id": "42c4de5b-b1ee-41cc-b94e-359c215eff67",
   "metadata": {},
   "outputs": [],
   "source": []
  }
 ],
 "metadata": {
  "kernelspec": {
   "display_name": "Python 3",
   "language": "python",
   "name": "python3"
  },
  "language_info": {
   "codemirror_mode": {
    "name": "ipython",
    "version": 3
   },
   "file_extension": ".py",
   "mimetype": "text/x-python",
   "name": "python",
   "nbconvert_exporter": "python",
   "pygments_lexer": "ipython3",
   "version": "3.7.10"
  }
 },
 "nbformat": 4,
 "nbformat_minor": 5
}
