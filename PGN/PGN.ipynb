{
 "cells": [
  {
   "cell_type": "markdown",
   "id": "19dc47a8-7e25-4b3a-8e75-1d576a31c1f6",
   "metadata": {},
   "source": [
    "# Policy Gradient"
   ]
  },
  {
   "cell_type": "markdown",
   "id": "06bb4cb6-145e-420a-a781-811854c8fcdf",
   "metadata": {},
   "source": [
    "## Setup"
   ]
  },
  {
   "cell_type": "code",
   "execution_count": 1,
   "id": "da6a43da-508c-41d0-ae74-35e5b27b6cf1",
   "metadata": {},
   "outputs": [
    {
     "name": "stdout",
     "output_type": "stream",
     "text": [
      "1 Physical GPUs, 1 Logical GPUs\n"
     ]
    }
   ],
   "source": [
    "# Python ≥3.5 is required\n",
    "import sys\n",
    "assert sys.version_info >= (3, 5)\n",
    "\n",
    "# Scikit-Learn ≥0.20 is required\n",
    "import sklearn\n",
    "assert sklearn.__version__ >= \"0.20\"\n",
    "\n",
    "try:\n",
    "    # %tensorflow_version only exists in Colab.\n",
    "    %tensorflow_version 2.x\n",
    "    !apt update && apt install -y libpq-dev libsdl2-dev swig xorg-dev xvfb\n",
    "    !pip install -q -U tf-agents pyvirtualdisplay gym[atari,box2d]\n",
    "    IS_COLAB = True\n",
    "except Exception:\n",
    "    IS_COLAB = False\n",
    "\n",
    "# TensorFlow ≥2.0 is required\n",
    "import tensorflow as tf\n",
    "from tensorflow import keras\n",
    "assert tf.__version__ >= \"2.0\"\n",
    "\n",
    "gpus = tf.config.list_physical_devices('GPU')\n",
    "if gpus:\n",
    "    try:\n",
    "        # Currently, memory growth needs to be the same across GPUs\n",
    "        for gpu in gpus:\n",
    "            tf.config.experimental.set_memory_growth(gpu, True)\n",
    "        logical_gpus = tf.config.experimental.list_logical_devices('GPU')\n",
    "        print(len(gpus), \"Physical GPUs,\", len(logical_gpus), \"Logical GPUs\")\n",
    "    except RuntimeError as e:\n",
    "        # Memory growth must be set before GPUs have been initialized\n",
    "        print(e)\n",
    "else:\n",
    "    print(\"No GPU was detected. CNNs can be very slow without a GPU.\")\n",
    "    if IS_COLAB:\n",
    "        print(\"Go to Runtime > Change runtime and select a GPU hardware accelerator.\")\n",
    "\n",
    "# Common imports\n",
    "import numpy as np\n",
    "import random\n",
    "import os\n",
    "import functools\n",
    "import time\n",
    "import gin\n",
    "import PIL\n",
    "import imageio\n",
    "\n",
    "from absl import app\n",
    "from absl import flags\n",
    "from absl import logging\n",
    "\n",
    "import gym\n",
    "from gym.envs.registration import register\n",
    "from collections import deque\n",
    "from tensorflow.keras.models import Sequential\n",
    "from tensorflow.keras.layers import Input, Dense, LSTM, Activation, Flatten, Conv2D, MaxPooling2D\n",
    "from tensorflow.keras.optimizers import Adam\n",
    "\n",
    "from IPython import display\n",
    "\n",
    "# To plot pretty figures\n",
    "%matplotlib inline\n",
    "import matplotlib as mpl\n",
    "import matplotlib.pyplot as plt\n",
    "mpl.rc('axes', labelsize=14)\n",
    "mpl.rc('xtick', labelsize=12)\n",
    "mpl.rc('ytick', labelsize=12)\n",
    "\n",
    "# To get smooth animations\n",
    "import matplotlib.animation as animation\n",
    "mpl.rc('animation', html='jshtml')"
   ]
  },
  {
   "cell_type": "markdown",
   "id": "8e154a70-20d1-48f1-ac3b-cd401014f0cd",
   "metadata": {},
   "source": [
    "## Environment Setup"
   ]
  },
  {
   "cell_type": "code",
   "execution_count": 2,
   "id": "1bf1495d-4f3d-404a-ae0a-9485ef14c9f5",
   "metadata": {},
   "outputs": [],
   "source": [
    "env_name = 'LunarLander-v2'\n",
    "random_seed = 42\n",
    "\n",
    "ROOT_DIR = \".\"\n",
    "IMAGES_PATH = os.path.join(ROOT_DIR, \"images\")\n",
    "os.makedirs(IMAGES_PATH, exist_ok=True)\n",
    "\n",
    "# Params for train\n",
    "num_iterations = 200\n",
    "max_episodes = 16\n",
    "gamma = 0.99\n",
    "learning_rate = 0.005\n",
    "loss_fn = keras.losses.sparse_categorical_crossentropy\n",
    "activation_fn = \"softmax\"\n",
    "\n",
    "keras.backend.clear_session()\n",
    "tf.random.set_seed(random_seed)\n",
    "np.random.seed(random_seed)"
   ]
  },
  {
   "cell_type": "markdown",
   "id": "7f49ee3b-6c36-4a76-8ac5-87094e53306e",
   "metadata": {},
   "source": [
    "## Policy Gradient"
   ]
  },
  {
   "cell_type": "code",
   "execution_count": 3,
   "id": "5be4759d-184d-40c7-841f-0d13ab5f5286",
   "metadata": {},
   "outputs": [],
   "source": [
    "class PGN:\n",
    "    def __init__(self, state_dim, action_dim, activation_fn=\"softmax\", loss_fn=keras.losses.sparse_categorical_crossentropy, gamma=0.99, learning_rate=0.005):\n",
    "        self.state_dim = state_dim\n",
    "        self.action_dim = action_dim\n",
    "        self.gamma = gamma\n",
    "        self.lr = learning_rate\n",
    "        self.loss_fn = loss_fn\n",
    "        self.optimizer = Adam(lr=self.lr)\n",
    "        \n",
    "        self.checkpoint_folder = os.path.join(ROOT_DIR, \"training/PGN\")\n",
    "        os.makedirs(self.checkpoint_folder, exist_ok=True)\n",
    "        self.checkpoint_path = os.path.join(self.checkpoint_folder, 'cp-{epoch:04d}.ckpt')\n",
    "        self.checkpoint_dir = os.path.dirname(self.checkpoint_path)\n",
    "\n",
    "        self.model = self.create_model()\n",
    "\n",
    "    def create_model(self):\n",
    "        model = tf.keras.Sequential([\n",
    "            Input((self.state_dim)),\n",
    "            Dense(32, activation='relu'),\n",
    "            Dense(32, activation='relu'),\n",
    "            Dense(self.action_dim, activation=activation_fn)\n",
    "        ])\n",
    "        return model\n",
    "    \n",
    "    def get_action(self, obs):\n",
    "        probas = self.model(obs[np.newaxis])\n",
    "        logits = tf.math.log(probas + keras.backend.epsilon())\n",
    "        action = tf.random.categorical(logits, num_samples=1)\n",
    "        return action, probas\n",
    "    \n",
    "    def grads(self, obs):\n",
    "        with tf.GradientTape() as tape:\n",
    "            action, probas = self.get_action(obs)\n",
    "            loss = tf.reduce_mean(self.loss_fn(action, probas))\n",
    "        grads = tape.gradient(loss, self.model.trainable_variables)\n",
    "        return action, grads\n",
    "    \n",
    "    def discount_rewards(self, rewards):\n",
    "        discounted = np.array(rewards)\n",
    "        for step in range(len(rewards) - 2, -1, -1):\n",
    "            discounted[step] += discounted[step + 1] * self.gamma\n",
    "        return discounted\n",
    "\n",
    "    def discount_and_normalize_rewards(self, all_rewards):\n",
    "        all_discounted_rewards = [self.discount_rewards(rewards) for rewards in all_rewards]\n",
    "        flat_rewards = np.concatenate(all_discounted_rewards)\n",
    "        reward_mean = flat_rewards.mean()\n",
    "        reward_std = flat_rewards.std()\n",
    "        return [((discounted_rewards - reward_mean) / reward_std) for discounted_rewards in all_discounted_rewards]\n",
    "\n",
    "    def train(self, all_rewards, all_grads):\n",
    "        all_mean_grads = []\n",
    "        all_final_rewards = self.discount_and_normalize_rewards(all_rewards)\n",
    "        for var_index in range(len(self.model.trainable_variables)):\n",
    "            mean_grads = tf.reduce_mean(\n",
    "                [final_reward * all_grads[episode_index][step][var_index]\n",
    "                 for episode_index, final_rewards in enumerate(all_final_rewards)\n",
    "                     for step, final_reward in enumerate(final_rewards)], axis=0)\n",
    "            all_mean_grads.append(mean_grads)\n",
    "        self.optimizer.apply_gradients(zip(all_mean_grads, self.model.trainable_variables))\n",
    "    \n",
    "    def load(self, weights=''):\n",
    "        if weights:\n",
    "             self.model.load_weights(weights)\n",
    "        else:\n",
    "            latest = tf.train.latest_checkpoint(self.checkpoint_dir)\n",
    "            if latest is not None:\n",
    "                self.model.load_weights(latest)\n",
    "\n",
    "    def save(self, e):\n",
    "        self.model.save_weights(self.checkpoint_path.format(epoch=e))\n",
    "    \n",
    "    def clean(self):\n",
    "        for f in os.listdir(self.checkpoint_folder):\n",
    "            os.remove(os.path.join(self.checkpoint_folder, f))"
   ]
  },
  {
   "cell_type": "markdown",
   "id": "80ec5204-e5fb-4c89-bada-df009c86f69d",
   "metadata": {},
   "source": [
    "## Agent Class"
   ]
  },
  {
   "cell_type": "code",
   "execution_count": 4,
   "id": "9b2a3a5e-dca4-4525-9420-e78ab2045c51",
   "metadata": {},
   "outputs": [],
   "source": [
    "class Agent:\n",
    "    def __init__(self, env_name, random_seed=42, activation_fn=\"softmax\", loss_fn=keras.losses.MeanSquaredError(), gamma=0.95, learning_rate=0.005):\n",
    "        self.env = gym.make(env_name)\n",
    "        self.env.seed(random_seed)\n",
    "        self.state_dim = self.env.observation_space.shape[0]\n",
    "        self.action_dim = self.env.action_space.n\n",
    "        self.gamma = gamma\n",
    "        \n",
    "        self.frames = []\n",
    "        self.rewards = []\n",
    "        \n",
    "        self.image_name = env_name + \".gif\"\n",
    "        self.image_path = os.path.join(IMAGES_PATH, self.image_name)\n",
    "        \n",
    "        self.main_model = PGN(self.state_dim, self.action_dim, activation_fn, loss_fn, self.gamma, learning_rate)\n",
    "        \n",
    "    def cp_init(self):\n",
    "        self.main_model.clean()\n",
    "        \n",
    "    def convert_time(self, t):\n",
    "        hours, rem = divmod(t, 3600)\n",
    "        minutes, seconds = divmod(rem, 60)\n",
    "        return hours, minutes, seconds\n",
    "    \n",
    "    def make_gif(self):\n",
    "        frame_images = [PIL.Image.fromarray(frame) for frame in self.frames]\n",
    "        frame_images[0].save(self.image_path, format='GIF', append_images=frame_images[1:], save_all=True, duration=120, loop=0)\n",
    "    \n",
    "    def get_gif(self):\n",
    "        html_img = '<img src=' + self.image_path + ' />'\n",
    "        return html_img\n",
    "    \n",
    "    def show_gif(self):\n",
    "        display.HTML(self.get_gif())\n",
    "\n",
    "    def plot_rewards(self):\n",
    "        plt.figure(figsize=(8, 4))\n",
    "        plt.plot(self.rewards)\n",
    "        plt.xlabel(\"Episode\", fontsize=14)\n",
    "        plt.ylabel(\"Reward\", fontsize=14)\n",
    "        plt.grid()\n",
    "        plt.show()\n",
    "    \n",
    "    def train(self, num_iterations=200, max_episodes=16):\n",
    "        train_time = 0\n",
    "        mean_rewards = []\n",
    "        self.main_model.load()\n",
    "        self.main_model.clean()\n",
    "        for iteration in range(num_iterations):\n",
    "            all_rewards = []\n",
    "            all_grads = []\n",
    "            start_time = time.time()\n",
    "            for ep in range(max_episodes):\n",
    "                done = False\n",
    "                current_rewards = []\n",
    "                current_grads = []\n",
    "                obs = self.env.reset()\n",
    "                while not done:\n",
    "                    action, grads = self.main_model.grads(obs)\n",
    "                    obs, reward, done, _ = self.env.step(action[0, 0].numpy())\n",
    "                    current_rewards.append(reward)\n",
    "                    current_grads.append(grads)\n",
    "                all_rewards.append(current_rewards)\n",
    "                all_grads.append(current_grads)\n",
    "            mean_reward = sum(map(sum, all_rewards)) / max_episodes\n",
    "            mean_rewards.append(mean_reward)\n",
    "            self.main_model.train(all_rewards, all_grads)\n",
    "            train_time += time.time() - start_time\n",
    "            hours, minutes, seconds = self.convert_time(train_time)\n",
    "            print(\"\\rIteration: {} / {}, Mean Reward: {:.1f}, Train Time: {:0>2}:{:0>2}:{:05.2f}\".format(iteration, num_iterations, mean_reward, int(hours), int(minutes), seconds), end=\"\")\n",
    "            self.main_model.save(ep)\n",
    "        self.rewards = mean_rewards\n",
    "\n",
    "    def play(self):\n",
    "        self.frames = []\n",
    "        total_reward, step_indx = 0, 0\n",
    "        obs = self.env.reset()\n",
    "        while True:\n",
    "            self.frames.append(self.env.render(mode=\"rgb_array\"))\n",
    "            action, _ = self.main_model.get_action(obs)\n",
    "            obs, reward, done, info = self.env.step(action[0, 0].numpy())\n",
    "            total_reward += reward\n",
    "            step_indx += 1\n",
    "            print(\"\\rTimestep: {}, Reward: {:.5f}\".format(step_indx, total_reward), end=\"\")\n",
    "            if done:\n",
    "                break\n",
    "        self.env.close()"
   ]
  },
  {
   "cell_type": "markdown",
   "id": "6b014135-91dc-4eae-8b48-83f91b4baf17",
   "metadata": {},
   "source": [
    "## Train"
   ]
  },
  {
   "cell_type": "code",
   "execution_count": 5,
   "id": "f7330d40-4550-4a4d-a40e-375491cd8ccb",
   "metadata": {},
   "outputs": [],
   "source": [
    "agent = Agent(env_name, random_seed, activation_fn, loss_fn, gamma, learning_rate)"
   ]
  },
  {
   "cell_type": "code",
   "execution_count": 6,
   "id": "1a029678-8476-444a-b75e-725019e801df",
   "metadata": {},
   "outputs": [],
   "source": [
    "agent.cp_init()"
   ]
  },
  {
   "cell_type": "code",
   "execution_count": 7,
   "id": "828271c1-258c-4478-9a9f-cc3cb8a6dfb0",
   "metadata": {},
   "outputs": [
    {
     "name": "stdout",
     "output_type": "stream",
     "text": [
      "Iteration: 199 / 200, Mean Reward: 136.5, Train Time: 00:08:31.23"
     ]
    }
   ],
   "source": [
    "agent.train(num_iterations, max_episodes)"
   ]
  },
  {
   "cell_type": "markdown",
   "id": "1974938a-6df3-485b-8c57-5dfe69f4db33",
   "metadata": {},
   "source": [
    "## Display Results"
   ]
  },
  {
   "cell_type": "code",
   "execution_count": 8,
   "id": "57d8b741-4a72-43db-8539-9d398d0b24bd",
   "metadata": {},
   "outputs": [
    {
     "data": {
      "image/png": "[encoded data removed]",
      "text/plain": [
       "<Figure size 576x288 with 1 Axes>"
      ]
     },
     "metadata": {
      "needs_background": "light"
     },
     "output_type": "display_data"
    }
   ],
   "source": [
    "agent.plot_rewards()"
   ]
  },
  {
   "cell_type": "markdown",
   "id": "43d33030-dfac-4eac-bad2-6e86753afd78",
   "metadata": {},
   "source": [
    "## Play"
   ]
  },
  {
   "cell_type": "code",
   "execution_count": 9,
   "id": "65cfe5cb-1b0f-4d62-8e95-1ca2e9ab6ad0",
   "metadata": {},
   "outputs": [
    {
     "name": "stdout",
     "output_type": "stream",
     "text": [
      "Timestep: 1000, Reward: 137.23284"
     ]
    }
   ],
   "source": [
    "agent.play()"
   ]
  },
  {
   "cell_type": "code",
   "execution_count": 10,
   "id": "ab3d4023-0421-46f2-b1c3-5cf6d9874fe4",
   "metadata": {},
   "outputs": [],
   "source": [
    "agent.make_gif()"
   ]
  },
  {
   "cell_type": "code",
   "execution_count": 11,
   "id": "6ad43fc1-19e5-4125-940c-6fef8f57f95a",
   "metadata": {},
   "outputs": [
    {
     "data": {
      "text/html": [
       "<img src=./images/LunarLander-v2.gif />"
      ],
      "text/plain": [
       "<IPython.core.display.HTML object>"
      ]
     },
     "execution_count": 11,
     "metadata": {},
     "output_type": "execute_result"
    }
   ],
   "source": [
    "display.HTML(agent.get_gif())"
   ]
  },
  {
   "cell_type": "code",
   "execution_count": null,
   "id": "cc02d337-a726-4476-aa5e-7480b1f6d723",
   "metadata": {},
   "outputs": [],
   "source": []
  }
 ],
 "metadata": {
  "kernelspec": {
   "display_name": "Python 3",
   "language": "python",
   "name": "python3"
  },
  "language_info": {
   "codemirror_mode": {
    "name": "ipython",
    "version": 3
   },
   "file_extension": ".py",
   "mimetype": "text/x-python",
   "name": "python",
   "nbconvert_exporter": "python",
   "pygments_lexer": "ipython3",
   "version": "3.7.10"
  }
 },
 "nbformat": 4,
 "nbformat_minor": 5
}
